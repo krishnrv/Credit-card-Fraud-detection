{
 "cells": [
  {
   "cell_type": "code",
   "execution_count": 1,
   "metadata": {},
   "outputs": [],
   "source": [
    "import numpy as np\n",
    "import pandas as pd \n",
    "from sklearn.model_selection import train_test_split # train-test split\n",
    "from sklearn.metrics import confusion_matrix, classification_report # classification metrics\n",
    "from imblearn.over_sampling import SMOTE # SMOTE\n",
    "from sklearn.preprocessing import RobustScaler, MinMaxScaler, StandardScaler # scaling methods\n",
    "from sklearn.metrics import recall_score,f1_score\n",
    "from sklearn.metrics import precision_score\n",
    "from sklearn.model_selection import GridSearchCV # grid search cross validation\n",
    "from sklearn.model_selection import RandomizedSearchCV # randomized search cross validation\n",
    "from sklearn.svm import LinearSVC\n",
    "from sklearn.linear_model import LogisticRegression\n",
    "from sklearn.neighbors import KNeighborsClassifier # K-Nearest Neighbbors\n",
    "from sklearn.naive_bayes import GaussianNB # Gaussain Naive Bayes\n",
    "from sklearn.tree import DecisionTreeClassifier # Decision Tree\n",
    "from sklearn.ensemble import RandomForestClassifier # Random Forest\n",
    "from sklearn.ensemble import AdaBoostClassifier # Adaptive Boosting Classifier\n",
    "from sklearn.ensemble import BaggingClassifier # Bootstrap Aggregating Classifier\n",
    "from sklearn.pipeline import Pipeline\n",
    "from sklearn.metrics import accuracy_score\n",
    "from sklearn.metrics import confusion_matrix, classification_report\n",
    "from sklearn.model_selection import GridSearchCV # grid search cross validation\n",
    "from sklearn.model_selection import RandomizedSearchCV # randomized search cross validation\n",
    "import matplotlib.pyplot as plt\n",
    "import seaborn as sns\n",
    "from sklearn.ensemble import ExtraTreesClassifier\n",
    "%matplotlib inline"
   ]
  },
  {
   "cell_type": "code",
   "execution_count": 2,
   "metadata": {},
   "outputs": [],
   "source": [
    "fraud=pd.read_csv('fraudTrain.csv')"
   ]
  },
  {
   "cell_type": "code",
   "execution_count": 3,
   "metadata": {},
   "outputs": [
    {
     "data": {
      "text/html": [
       "<div>\n",
       "<style scoped>\n",
       "    .dataframe tbody tr th:only-of-type {\n",
       "        vertical-align: middle;\n",
       "    }\n",
       "\n",
       "    .dataframe tbody tr th {\n",
       "        vertical-align: top;\n",
       "    }\n",
       "\n",
       "    .dataframe thead th {\n",
       "        text-align: right;\n",
       "    }\n",
       "</style>\n",
       "<table border=\"1\" class=\"dataframe\">\n",
       "  <thead>\n",
       "    <tr style=\"text-align: right;\">\n",
       "      <th></th>\n",
       "      <th>Unnamed: 0</th>\n",
       "      <th>trans_date_trans_time</th>\n",
       "      <th>cc_num</th>\n",
       "      <th>merchant</th>\n",
       "      <th>category</th>\n",
       "      <th>amt</th>\n",
       "      <th>first</th>\n",
       "      <th>last</th>\n",
       "      <th>gender</th>\n",
       "      <th>street</th>\n",
       "      <th>...</th>\n",
       "      <th>lat</th>\n",
       "      <th>long</th>\n",
       "      <th>city_pop</th>\n",
       "      <th>job</th>\n",
       "      <th>dob</th>\n",
       "      <th>trans_num</th>\n",
       "      <th>unix_time</th>\n",
       "      <th>merch_lat</th>\n",
       "      <th>merch_long</th>\n",
       "      <th>is_fraud</th>\n",
       "    </tr>\n",
       "  </thead>\n",
       "  <tbody>\n",
       "    <tr>\n",
       "      <th>0</th>\n",
       "      <td>0</td>\n",
       "      <td>2019-01-01 00:00:18</td>\n",
       "      <td>2703186189652095</td>\n",
       "      <td>fraud_Rippin, Kub and Mann</td>\n",
       "      <td>misc_net</td>\n",
       "      <td>4.97</td>\n",
       "      <td>Jennifer</td>\n",
       "      <td>Banks</td>\n",
       "      <td>F</td>\n",
       "      <td>561 Perry Cove</td>\n",
       "      <td>...</td>\n",
       "      <td>36.0788</td>\n",
       "      <td>-81.1781</td>\n",
       "      <td>3495</td>\n",
       "      <td>Psychologist, counselling</td>\n",
       "      <td>1988-03-09</td>\n",
       "      <td>0b242abb623afc578575680df30655b9</td>\n",
       "      <td>1325376018</td>\n",
       "      <td>36.011293</td>\n",
       "      <td>-82.048315</td>\n",
       "      <td>0</td>\n",
       "    </tr>\n",
       "    <tr>\n",
       "      <th>1</th>\n",
       "      <td>1</td>\n",
       "      <td>2019-01-01 00:00:44</td>\n",
       "      <td>630423337322</td>\n",
       "      <td>fraud_Heller, Gutmann and Zieme</td>\n",
       "      <td>grocery_pos</td>\n",
       "      <td>107.23</td>\n",
       "      <td>Stephanie</td>\n",
       "      <td>Gill</td>\n",
       "      <td>F</td>\n",
       "      <td>43039 Riley Greens Suite 393</td>\n",
       "      <td>...</td>\n",
       "      <td>48.8878</td>\n",
       "      <td>-118.2105</td>\n",
       "      <td>149</td>\n",
       "      <td>Special educational needs teacher</td>\n",
       "      <td>1978-06-21</td>\n",
       "      <td>1f76529f8574734946361c461b024d99</td>\n",
       "      <td>1325376044</td>\n",
       "      <td>49.159047</td>\n",
       "      <td>-118.186462</td>\n",
       "      <td>0</td>\n",
       "    </tr>\n",
       "    <tr>\n",
       "      <th>2</th>\n",
       "      <td>2</td>\n",
       "      <td>2019-01-01 00:00:51</td>\n",
       "      <td>38859492057661</td>\n",
       "      <td>fraud_Lind-Buckridge</td>\n",
       "      <td>entertainment</td>\n",
       "      <td>220.11</td>\n",
       "      <td>Edward</td>\n",
       "      <td>Sanchez</td>\n",
       "      <td>M</td>\n",
       "      <td>594 White Dale Suite 530</td>\n",
       "      <td>...</td>\n",
       "      <td>42.1808</td>\n",
       "      <td>-112.2620</td>\n",
       "      <td>4154</td>\n",
       "      <td>Nature conservation officer</td>\n",
       "      <td>1962-01-19</td>\n",
       "      <td>a1a22d70485983eac12b5b88dad1cf95</td>\n",
       "      <td>1325376051</td>\n",
       "      <td>43.150704</td>\n",
       "      <td>-112.154481</td>\n",
       "      <td>0</td>\n",
       "    </tr>\n",
       "    <tr>\n",
       "      <th>3</th>\n",
       "      <td>3</td>\n",
       "      <td>2019-01-01 00:01:16</td>\n",
       "      <td>3534093764340240</td>\n",
       "      <td>fraud_Kutch, Hermiston and Farrell</td>\n",
       "      <td>gas_transport</td>\n",
       "      <td>45.00</td>\n",
       "      <td>Jeremy</td>\n",
       "      <td>White</td>\n",
       "      <td>M</td>\n",
       "      <td>9443 Cynthia Court Apt. 038</td>\n",
       "      <td>...</td>\n",
       "      <td>46.2306</td>\n",
       "      <td>-112.1138</td>\n",
       "      <td>1939</td>\n",
       "      <td>Patent attorney</td>\n",
       "      <td>1967-01-12</td>\n",
       "      <td>6b849c168bdad6f867558c3793159a81</td>\n",
       "      <td>1325376076</td>\n",
       "      <td>47.034331</td>\n",
       "      <td>-112.561071</td>\n",
       "      <td>0</td>\n",
       "    </tr>\n",
       "    <tr>\n",
       "      <th>4</th>\n",
       "      <td>4</td>\n",
       "      <td>2019-01-01 00:03:06</td>\n",
       "      <td>375534208663984</td>\n",
       "      <td>fraud_Keeling-Crist</td>\n",
       "      <td>misc_pos</td>\n",
       "      <td>41.96</td>\n",
       "      <td>Tyler</td>\n",
       "      <td>Garcia</td>\n",
       "      <td>M</td>\n",
       "      <td>408 Bradley Rest</td>\n",
       "      <td>...</td>\n",
       "      <td>38.4207</td>\n",
       "      <td>-79.4629</td>\n",
       "      <td>99</td>\n",
       "      <td>Dance movement psychotherapist</td>\n",
       "      <td>1986-03-28</td>\n",
       "      <td>a41d7549acf90789359a9aa5346dcb46</td>\n",
       "      <td>1325376186</td>\n",
       "      <td>38.674999</td>\n",
       "      <td>-78.632459</td>\n",
       "      <td>0</td>\n",
       "    </tr>\n",
       "  </tbody>\n",
       "</table>\n",
       "<p>5 rows × 23 columns</p>\n",
       "</div>"
      ],
      "text/plain": [
       "   Unnamed: 0 trans_date_trans_time            cc_num  \\\n",
       "0           0   2019-01-01 00:00:18  2703186189652095   \n",
       "1           1   2019-01-01 00:00:44      630423337322   \n",
       "2           2   2019-01-01 00:00:51    38859492057661   \n",
       "3           3   2019-01-01 00:01:16  3534093764340240   \n",
       "4           4   2019-01-01 00:03:06   375534208663984   \n",
       "\n",
       "                             merchant       category     amt      first  \\\n",
       "0          fraud_Rippin, Kub and Mann       misc_net    4.97   Jennifer   \n",
       "1     fraud_Heller, Gutmann and Zieme    grocery_pos  107.23  Stephanie   \n",
       "2                fraud_Lind-Buckridge  entertainment  220.11     Edward   \n",
       "3  fraud_Kutch, Hermiston and Farrell  gas_transport   45.00     Jeremy   \n",
       "4                 fraud_Keeling-Crist       misc_pos   41.96      Tyler   \n",
       "\n",
       "      last gender                        street  ...      lat      long  \\\n",
       "0    Banks      F                561 Perry Cove  ...  36.0788  -81.1781   \n",
       "1     Gill      F  43039 Riley Greens Suite 393  ...  48.8878 -118.2105   \n",
       "2  Sanchez      M      594 White Dale Suite 530  ...  42.1808 -112.2620   \n",
       "3    White      M   9443 Cynthia Court Apt. 038  ...  46.2306 -112.1138   \n",
       "4   Garcia      M              408 Bradley Rest  ...  38.4207  -79.4629   \n",
       "\n",
       "   city_pop                                job         dob  \\\n",
       "0      3495          Psychologist, counselling  1988-03-09   \n",
       "1       149  Special educational needs teacher  1978-06-21   \n",
       "2      4154        Nature conservation officer  1962-01-19   \n",
       "3      1939                    Patent attorney  1967-01-12   \n",
       "4        99     Dance movement psychotherapist  1986-03-28   \n",
       "\n",
       "                          trans_num   unix_time  merch_lat  merch_long  \\\n",
       "0  0b242abb623afc578575680df30655b9  1325376018  36.011293  -82.048315   \n",
       "1  1f76529f8574734946361c461b024d99  1325376044  49.159047 -118.186462   \n",
       "2  a1a22d70485983eac12b5b88dad1cf95  1325376051  43.150704 -112.154481   \n",
       "3  6b849c168bdad6f867558c3793159a81  1325376076  47.034331 -112.561071   \n",
       "4  a41d7549acf90789359a9aa5346dcb46  1325376186  38.674999  -78.632459   \n",
       "\n",
       "   is_fraud  \n",
       "0         0  \n",
       "1         0  \n",
       "2         0  \n",
       "3         0  \n",
       "4         0  \n",
       "\n",
       "[5 rows x 23 columns]"
      ]
     },
     "execution_count": 3,
     "metadata": {},
     "output_type": "execute_result"
    }
   ],
   "source": [
    "fraud.head()"
   ]
  },
  {
   "cell_type": "code",
   "execution_count": 4,
   "metadata": {},
   "outputs": [],
   "source": [
    "fraud.drop('Unnamed: 0',axis=1,inplace=True)"
   ]
  },
  {
   "cell_type": "code",
   "execution_count": 5,
   "metadata": {},
   "outputs": [],
   "source": [
    "#fraud.info()\n",
    "#fraud.isna().sum()\n",
    "#fraud.nunique()\n",
    "#fraud.head(2)\n",
    "fraud1=fraud.copy()\n"
   ]
  },
  {
   "cell_type": "code",
   "execution_count": 6,
   "metadata": {},
   "outputs": [
    {
     "name": "stdout",
     "output_type": "stream",
     "text": [
      "<class 'pandas.core.frame.DataFrame'>\n",
      "RangeIndex: 1296675 entries, 0 to 1296674\n",
      "Data columns (total 22 columns):\n",
      " #   Column                 Non-Null Count    Dtype  \n",
      "---  ------                 --------------    -----  \n",
      " 0   trans_date_trans_time  1296675 non-null  object \n",
      " 1   cc_num                 1296675 non-null  int64  \n",
      " 2   merchant               1296675 non-null  object \n",
      " 3   category               1296675 non-null  object \n",
      " 4   amt                    1296675 non-null  float64\n",
      " 5   first                  1296675 non-null  object \n",
      " 6   last                   1296675 non-null  object \n",
      " 7   gender                 1296675 non-null  object \n",
      " 8   street                 1296675 non-null  object \n",
      " 9   city                   1296675 non-null  object \n",
      " 10  state                  1296675 non-null  object \n",
      " 11  zip                    1296675 non-null  int64  \n",
      " 12  lat                    1296675 non-null  float64\n",
      " 13  long                   1296675 non-null  float64\n",
      " 14  city_pop               1296675 non-null  int64  \n",
      " 15  job                    1296675 non-null  object \n",
      " 16  dob                    1296675 non-null  object \n",
      " 17  trans_num              1296675 non-null  object \n",
      " 18  unix_time              1296675 non-null  int64  \n",
      " 19  merch_lat              1296675 non-null  float64\n",
      " 20  merch_long             1296675 non-null  float64\n",
      " 21  is_fraud               1296675 non-null  int64  \n",
      "dtypes: float64(5), int64(5), object(12)\n",
      "memory usage: 217.6+ MB\n"
     ]
    }
   ],
   "source": [
    "fraud.info()"
   ]
  },
  {
   "cell_type": "code",
   "execution_count": 7,
   "metadata": {},
   "outputs": [],
   "source": [
    "#Lets Drop Date and Time column and all other irrelavant columns!\n",
    "fraud1.drop(['trans_date_trans_time','unix_time'], axis=1,inplace=True)\n",
    "fraud1.drop(['first', 'last', 'street','dob', 'trans_num'],axis=1,inplace=True)\n",
    "fraud1.drop(['lat','long'],axis=1,inplace=True)\n",
    "fraud1.drop(['merch_lat','merch_long'],axis=1,inplace=True)\n",
    "fraud1.drop(['city_pop'],axis=1,inplace=True)"
   ]
  },
  {
   "cell_type": "code",
   "execution_count": 8,
   "metadata": {},
   "outputs": [
    {
     "data": {
      "text/plain": [
       "Index(['cc_num', 'merchant', 'category', 'gender', 'city', 'state', 'zip',\n",
       "       'job'],\n",
       "      dtype='object')"
      ]
     },
     "execution_count": 8,
     "metadata": {},
     "output_type": "execute_result"
    }
   ],
   "source": [
    "\n",
    "\n",
    "fraud1['gender']=fraud1['gender'].replace(np.nan, 0)\n",
    "fraud1['cc_num']=fraud1['cc_num'].astype(str)\n",
    "fraud1['zip']=fraud1['zip'].astype(str)\n",
    "c_feat=fraud1.loc[:,fraud1.dtypes==np.object].columns\n",
    "c_feat"
   ]
  },
  {
   "cell_type": "code",
   "execution_count": 9,
   "metadata": {},
   "outputs": [
    {
     "data": {
      "text/plain": [
       "Index(['cc_num', 'merchant', 'category', 'amt', 'gender', 'city', 'state',\n",
       "       'zip', 'job', 'is_fraud'],\n",
       "      dtype='object')"
      ]
     },
     "execution_count": 9,
     "metadata": {},
     "output_type": "execute_result"
    }
   ],
   "source": [
    "fraud1.columns"
   ]
  },
  {
   "cell_type": "code",
   "execution_count": 10,
   "metadata": {},
   "outputs": [],
   "source": [
    "fraud1['gender']=fraud1['gender'].replace(np.nan, 0)\n"
   ]
  },
  {
   "cell_type": "markdown",
   "metadata": {},
   "source": [
    "## Lets encode the categorical features now!"
   ]
  },
  {
   "cell_type": "code",
   "execution_count": 11,
   "metadata": {},
   "outputs": [],
   "source": [
    "# Binarizing Gender column\n",
    "#def gender_binarizer(x):\n",
    "gender_map = {'yes': 1, 'no': 0}\n",
    "fraud1['gender']=fraud1['gender'].map(gender_map)\n",
    "    \n",
    "#fraud1['gender'] = fraud1['gender'].transform(gender_binarizer)"
   ]
  },
  {
   "cell_type": "code",
   "execution_count": 12,
   "metadata": {},
   "outputs": [
    {
     "data": {
      "text/plain": [
       "1296675"
      ]
     },
     "execution_count": 12,
     "metadata": {},
     "output_type": "execute_result"
    }
   ],
   "source": [
    "fraud1['gender'].isna().sum()"
   ]
  },
  {
   "cell_type": "code",
   "execution_count": 13,
   "metadata": {},
   "outputs": [],
   "source": [
    "fraud1['cc_num']=fraud1['cc_num'].astype(str)"
   ]
  },
  {
   "cell_type": "code",
   "execution_count": 14,
   "metadata": {},
   "outputs": [],
   "source": [
    "fraud1['zip']=fraud1['zip'].astype(str)"
   ]
  },
  {
   "cell_type": "markdown",
   "metadata": {},
   "source": [
    "## Lets find other categorical features and mean encode them!"
   ]
  },
  {
   "cell_type": "code",
   "execution_count": 15,
   "metadata": {},
   "outputs": [
    {
     "data": {
      "text/plain": [
       "Index(['cc_num', 'merchant', 'category', 'city', 'state', 'zip', 'job'], dtype='object')"
      ]
     },
     "execution_count": 15,
     "metadata": {},
     "output_type": "execute_result"
    }
   ],
   "source": [
    "c_feat=fraud1.loc[:,fraud1.dtypes==np.object].columns\n",
    "c_feat"
   ]
  },
  {
   "cell_type": "code",
   "execution_count": 16,
   "metadata": {},
   "outputs": [],
   "source": [
    "#mean-encode\n",
    "for i in c_feat:\n",
    "    mean =fraud1.groupby([i])['is_fraud'].mean()\n",
    "    fraud1[i]=fraud1[i].map(mean)"
   ]
  },
  {
   "cell_type": "code",
   "execution_count": 17,
   "metadata": {},
   "outputs": [
    {
     "data": {
      "text/html": [
       "<div>\n",
       "<style scoped>\n",
       "    .dataframe tbody tr th:only-of-type {\n",
       "        vertical-align: middle;\n",
       "    }\n",
       "\n",
       "    .dataframe tbody tr th {\n",
       "        vertical-align: top;\n",
       "    }\n",
       "\n",
       "    .dataframe thead th {\n",
       "        text-align: right;\n",
       "    }\n",
       "</style>\n",
       "<table border=\"1\" class=\"dataframe\">\n",
       "  <thead>\n",
       "    <tr style=\"text-align: right;\">\n",
       "      <th></th>\n",
       "      <th>cc_num</th>\n",
       "      <th>merchant</th>\n",
       "      <th>category</th>\n",
       "      <th>amt</th>\n",
       "      <th>gender</th>\n",
       "      <th>city</th>\n",
       "      <th>state</th>\n",
       "      <th>zip</th>\n",
       "      <th>job</th>\n",
       "      <th>is_fraud</th>\n",
       "    </tr>\n",
       "  </thead>\n",
       "  <tbody>\n",
       "    <tr>\n",
       "      <th>0</th>\n",
       "      <td>0.000000</td>\n",
       "      <td>0.014207</td>\n",
       "      <td>0.014458</td>\n",
       "      <td>4.97</td>\n",
       "      <td>NaN</td>\n",
       "      <td>0.000000</td>\n",
       "      <td>0.004923</td>\n",
       "      <td>0.000000</td>\n",
       "      <td>0.001693</td>\n",
       "      <td>0</td>\n",
       "    </tr>\n",
       "    <tr>\n",
       "      <th>1</th>\n",
       "      <td>0.000000</td>\n",
       "      <td>0.010787</td>\n",
       "      <td>0.014098</td>\n",
       "      <td>107.23</td>\n",
       "      <td>NaN</td>\n",
       "      <td>0.000000</td>\n",
       "      <td>0.005073</td>\n",
       "      <td>0.000000</td>\n",
       "      <td>0.002157</td>\n",
       "      <td>0</td>\n",
       "    </tr>\n",
       "    <tr>\n",
       "      <th>2</th>\n",
       "      <td>0.000000</td>\n",
       "      <td>0.002111</td>\n",
       "      <td>0.002478</td>\n",
       "      <td>220.11</td>\n",
       "      <td>NaN</td>\n",
       "      <td>0.000000</td>\n",
       "      <td>0.001984</td>\n",
       "      <td>0.000000</td>\n",
       "      <td>0.015656</td>\n",
       "      <td>0</td>\n",
       "    </tr>\n",
       "    <tr>\n",
       "      <th>3</th>\n",
       "      <td>0.030426</td>\n",
       "      <td>0.003444</td>\n",
       "      <td>0.004694</td>\n",
       "      <td>45.00</td>\n",
       "      <td>NaN</td>\n",
       "      <td>0.030426</td>\n",
       "      <td>0.002722</td>\n",
       "      <td>0.030426</td>\n",
       "      <td>0.007905</td>\n",
       "      <td>0</td>\n",
       "    </tr>\n",
       "    <tr>\n",
       "      <th>4</th>\n",
       "      <td>0.000000</td>\n",
       "      <td>0.003769</td>\n",
       "      <td>0.003139</td>\n",
       "      <td>41.96</td>\n",
       "      <td>NaN</td>\n",
       "      <td>0.000000</td>\n",
       "      <td>0.006769</td>\n",
       "      <td>0.000000</td>\n",
       "      <td>0.000000</td>\n",
       "      <td>0</td>\n",
       "    </tr>\n",
       "  </tbody>\n",
       "</table>\n",
       "</div>"
      ],
      "text/plain": [
       "     cc_num  merchant  category     amt  gender      city     state       zip  \\\n",
       "0  0.000000  0.014207  0.014458    4.97     NaN  0.000000  0.004923  0.000000   \n",
       "1  0.000000  0.010787  0.014098  107.23     NaN  0.000000  0.005073  0.000000   \n",
       "2  0.000000  0.002111  0.002478  220.11     NaN  0.000000  0.001984  0.000000   \n",
       "3  0.030426  0.003444  0.004694   45.00     NaN  0.030426  0.002722  0.030426   \n",
       "4  0.000000  0.003769  0.003139   41.96     NaN  0.000000  0.006769  0.000000   \n",
       "\n",
       "        job  is_fraud  \n",
       "0  0.001693         0  \n",
       "1  0.002157         0  \n",
       "2  0.015656         0  \n",
       "3  0.007905         0  \n",
       "4  0.000000         0  "
      ]
     },
     "execution_count": 17,
     "metadata": {},
     "output_type": "execute_result"
    }
   ],
   "source": [
    "fraud1.head()"
   ]
  },
  {
   "cell_type": "code",
   "execution_count": 18,
   "metadata": {},
   "outputs": [
    {
     "name": "stdout",
     "output_type": "stream",
     "text": [
      "<class 'pandas.core.frame.DataFrame'>\n",
      "RangeIndex: 1296675 entries, 0 to 1296674\n",
      "Data columns (total 10 columns):\n",
      " #   Column    Non-Null Count    Dtype  \n",
      "---  ------    --------------    -----  \n",
      " 0   cc_num    1296675 non-null  float64\n",
      " 1   merchant  1296675 non-null  float64\n",
      " 2   category  1296675 non-null  float64\n",
      " 3   amt       1296675 non-null  float64\n",
      " 4   gender    0 non-null        float64\n",
      " 5   city      1296675 non-null  float64\n",
      " 6   state     1296675 non-null  float64\n",
      " 7   zip       1296675 non-null  float64\n",
      " 8   job       1296675 non-null  float64\n",
      " 9   is_fraud  1296675 non-null  int64  \n",
      "dtypes: float64(9), int64(1)\n",
      "memory usage: 98.9 MB\n"
     ]
    }
   ],
   "source": [
    "fraud1.info()"
   ]
  },
  {
   "cell_type": "code",
   "execution_count": 19,
   "metadata": {},
   "outputs": [],
   "source": [
    "fraud1['gender']=fraud1['gender'].replace(np.nan, 0)"
   ]
  },
  {
   "cell_type": "code",
   "execution_count": 20,
   "metadata": {},
   "outputs": [],
   "source": [
    "X=fraud1.drop('is_fraud',axis=1)\n",
    "y=fraud1['is_fraud']"
   ]
  },
  {
   "cell_type": "code",
   "execution_count": 21,
   "metadata": {},
   "outputs": [],
   "source": [
    "X_train, X_test, y_train, y_test = train_test_split(X, y, test_size=0.25, stratify=y, random_state=27)"
   ]
  },
  {
   "cell_type": "markdown",
   "metadata": {},
   "source": [
    "## Since all but amount(amt) columns are pretty much on the same scale, we will normalize the amt variable!"
   ]
  },
  {
   "cell_type": "code",
   "execution_count": 22,
   "metadata": {},
   "outputs": [],
   "source": [
    "from sklearn.preprocessing import StandardScaler\n",
    "sc=StandardScaler()"
   ]
  },
  {
   "cell_type": "code",
   "execution_count": 23,
   "metadata": {},
   "outputs": [
    {
     "data": {
      "text/plain": [
       "StandardScaler()"
      ]
     },
     "execution_count": 23,
     "metadata": {},
     "output_type": "execute_result"
    }
   ],
   "source": [
    "sc.fit(np.array(X_train['amt']).reshape(-1,1))"
   ]
  },
  {
   "cell_type": "code",
   "execution_count": 24,
   "metadata": {},
   "outputs": [
    {
     "name": "stderr",
     "output_type": "stream",
     "text": [
      "<ipython-input-24-380b7b4b440b>:1: SettingWithCopyWarning: \n",
      "A value is trying to be set on a copy of a slice from a DataFrame.\n",
      "Try using .loc[row_indexer,col_indexer] = value instead\n",
      "\n",
      "See the caveats in the documentation: https://pandas.pydata.org/pandas-docs/stable/user_guide/indexing.html#returning-a-view-versus-a-copy\n",
      "  X_train['amt']=sc.transform(np.array(X_train['amt']).reshape(-1,1))\n",
      "<ipython-input-24-380b7b4b440b>:2: SettingWithCopyWarning: \n",
      "A value is trying to be set on a copy of a slice from a DataFrame.\n",
      "Try using .loc[row_indexer,col_indexer] = value instead\n",
      "\n",
      "See the caveats in the documentation: https://pandas.pydata.org/pandas-docs/stable/user_guide/indexing.html#returning-a-view-versus-a-copy\n",
      "  X_test['amt']=sc.transform(np.array(X_test['amt']).reshape(-1,1))\n"
     ]
    }
   ],
   "source": [
    "X_train['amt']=sc.transform(np.array(X_train['amt']).reshape(-1,1))\n",
    "X_test['amt']=sc.transform(np.array(X_test['amt']).reshape(-1,1))"
   ]
  },
  {
   "cell_type": "code",
   "execution_count": 25,
   "metadata": {},
   "outputs": [],
   "source": [
    "fraud1['gender']=fraud1['gender'].replace(np.nan, 0)"
   ]
  },
  {
   "cell_type": "markdown",
   "metadata": {},
   "source": [
    "### Apply SMOTE to the training Data!"
   ]
  },
  {
   "cell_type": "code",
   "execution_count": 26,
   "metadata": {},
   "outputs": [],
   "source": [
    "#We'll apply SMOTE to the training data only\n",
    "from imblearn.over_sampling import SMOTE\n",
    "os = SMOTE(random_state=0)\n",
    "columns = X_train.columns"
   ]
  },
  {
   "cell_type": "code",
   "execution_count": 27,
   "metadata": {},
   "outputs": [],
   "source": [
    "oversample = SMOTE()\n",
    "X_train, y_train = oversample.fit_resample(X_train, y_train)"
   ]
  },
  {
   "cell_type": "markdown",
   "metadata": {},
   "source": [
    "## Feature Selection"
   ]
  },
  {
   "cell_type": "markdown",
   "metadata": {},
   "source": [
    "### Lets check the importance of all the features in our data(by using ExtraTreeClassifier)!"
   ]
  },
  {
   "cell_type": "markdown",
   "metadata": {},
   "source": [
    "#### Information Gain Method!"
   ]
  },
  {
   "cell_type": "code",
   "execution_count": 28,
   "metadata": {},
   "outputs": [
    {
     "name": "stdout",
     "output_type": "stream",
     "text": [
      "[0.0750442  0.0959223  0.19617114 0.34653707 0.         0.08994021\n",
      " 0.04272205 0.10463676 0.04902628]\n"
     ]
    },
    {
     "data": {
      "image/png": "[encoded data removed]",
      "text/plain": [
       "<Figure size 432x288 with 1 Axes>"
      ]
     },
     "metadata": {
      "needs_background": "light"
     },
     "output_type": "display_data"
    }
   ],
   "source": [
    "fs1 = ExtraTreesClassifier(n_jobs=-1)\n",
    "fs1.fit(X_train,y_train)\n",
    "print(fs1.feature_importances_) \n",
    "feat_importances1 = pd.Series(fs1.feature_importances_, index=X_train.columns)\n",
    "feat_importances1.nlargest(10).plot(kind='barh')\n",
    "plt.title(\"Top 10 important features in fraud data\")\n",
    "plt.show()"
   ]
  },
  {
   "cell_type": "markdown",
   "metadata": {},
   "source": [
    "#### Forward Selection Method (Wrapper Based Method)!"
   ]
  },
  {
   "cell_type": "code",
   "execution_count": 29,
   "metadata": {},
   "outputs": [],
   "source": [
    "from mlxtend.feature_selection import SequentialFeatureSelector as sfs\n",
    "from mlxtend.plotting import plot_sequential_feature_selection as plot_sfs"
   ]
  },
  {
   "cell_type": "markdown",
   "metadata": {},
   "source": [
    "##### We will use a logistic regression model as a base model to select the variables through Forward Selection Method! "
   ]
  },
  {
   "cell_type": "code",
   "execution_count": 30,
   "metadata": {},
   "outputs": [],
   "source": [
    "Base=LogisticRegression()"
   ]
  },
  {
   "cell_type": "code",
   "execution_count": 31,
   "metadata": {},
   "outputs": [],
   "source": [
    "#Build step forward feature selection\n",
    "sfs1 = sfs(Base,\n",
    "           k_features=9,\n",
    "           forward=True,\n",
    "           floating=False,\n",
    "           verbose=2,\n",
    "           scoring='f1',\n",
    "           cv=5,\n",
    "           n_jobs=-1)\n",
    "features=X.columns"
   ]
  },
  {
   "cell_type": "code",
   "execution_count": 32,
   "metadata": {},
   "outputs": [
    {
     "name": "stderr",
     "output_type": "stream",
     "text": [
      "[Parallel(n_jobs=-1)]: Using backend LokyBackend with 8 concurrent workers.\n",
      "[Parallel(n_jobs=-1)]: Done   4 out of   9 | elapsed:   41.0s remaining:   51.2s\n",
      "[Parallel(n_jobs=-1)]: Done   9 out of   9 | elapsed:   49.5s remaining:    0.0s\n",
      "[Parallel(n_jobs=-1)]: Done   9 out of   9 | elapsed:   49.5s finished\n",
      "\n",
      "[2021-09-13 14:20:05] Features: 1/9 -- score: 0.8385670465893875[Parallel(n_jobs=-1)]: Using backend LokyBackend with 8 concurrent workers.\n",
      "[Parallel(n_jobs=-1)]: Done   3 out of   8 | elapsed:   42.9s remaining:  1.2min\n",
      "[Parallel(n_jobs=-1)]: Done   8 out of   8 | elapsed:   56.8s remaining:    0.0s\n",
      "[Parallel(n_jobs=-1)]: Done   8 out of   8 | elapsed:   56.8s finished\n",
      "\n",
      "[2021-09-13 14:21:02] Features: 2/9 -- score: 0.8577075389990846[Parallel(n_jobs=-1)]: Using backend LokyBackend with 8 concurrent workers.\n",
      "[Parallel(n_jobs=-1)]: Done   4 out of   7 | elapsed:   53.2s remaining:   39.9s\n",
      "[Parallel(n_jobs=-1)]: Done   7 out of   7 | elapsed:  1.2min finished\n",
      "\n",
      "[2021-09-13 14:22:11] Features: 3/9 -- score: 0.8582236860610767[Parallel(n_jobs=-1)]: Using backend LokyBackend with 8 concurrent workers.\n",
      "[Parallel(n_jobs=-1)]: Done   3 out of   6 | elapsed:  1.3min remaining:  1.3min\n",
      "[Parallel(n_jobs=-1)]: Done   6 out of   6 | elapsed:  1.4min finished\n",
      "\n",
      "[2021-09-13 14:23:38] Features: 4/9 -- score: 0.8584792416594487[Parallel(n_jobs=-1)]: Using backend LokyBackend with 8 concurrent workers.\n",
      "[Parallel(n_jobs=-1)]: Done   2 out of   5 | elapsed:  1.2min remaining:  1.8min\n",
      "[Parallel(n_jobs=-1)]: Done   5 out of   5 | elapsed:  1.3min remaining:    0.0s\n",
      "[Parallel(n_jobs=-1)]: Done   5 out of   5 | elapsed:  1.3min finished\n",
      "\n",
      "[2021-09-13 14:24:58] Features: 5/9 -- score: 0.8584792416594487[Parallel(n_jobs=-1)]: Using backend LokyBackend with 8 concurrent workers.\n",
      "[Parallel(n_jobs=-1)]: Done   4 out of   4 | elapsed:  1.3min remaining:    0.0s\n",
      "[Parallel(n_jobs=-1)]: Done   4 out of   4 | elapsed:  1.3min finished\n",
      "\n",
      "[2021-09-13 14:26:15] Features: 6/9 -- score: 0.8584509856002616[Parallel(n_jobs=-1)]: Using backend LokyBackend with 8 concurrent workers.\n",
      "[Parallel(n_jobs=-1)]: Done   3 out of   3 | elapsed:  1.1min finished\n",
      "\n",
      "[2021-09-13 14:27:22] Features: 7/9 -- score: 0.858353163472889[Parallel(n_jobs=-1)]: Using backend LokyBackend with 8 concurrent workers.\n",
      "[Parallel(n_jobs=-1)]: Done   2 out of   2 | elapsed:  1.0min finished\n",
      "\n",
      "[2021-09-13 14:28:23] Features: 8/9 -- score: 0.8585342447882779[Parallel(n_jobs=-1)]: Using backend LokyBackend with 8 concurrent workers.\n",
      "[Parallel(n_jobs=-1)]: Done   1 out of   1 | elapsed:   52.2s finished\n",
      "\n",
      "[2021-09-13 14:29:15] Features: 9/9 -- score: 0.8582229444363"
     ]
    },
    {
     "data": {
      "text/plain": [
       "SequentialFeatureSelector(estimator=LogisticRegression(), k_features=9,\n",
       "                          n_jobs=-1, scoring='f1', verbose=2)"
      ]
     },
     "execution_count": 32,
     "metadata": {},
     "output_type": "execute_result"
    }
   ],
   "source": [
    "sfs1.fit(X_train,y_train,custom_feature_names=features)"
   ]
  },
  {
   "cell_type": "code",
   "execution_count": 33,
   "metadata": {},
   "outputs": [],
   "source": [
    "results=pd.DataFrame(sfs1.subsets_).T"
   ]
  },
  {
   "cell_type": "code",
   "execution_count": 34,
   "metadata": {},
   "outputs": [
    {
     "data": {
      "text/html": [
       "<div>\n",
       "<style scoped>\n",
       "    .dataframe tbody tr th:only-of-type {\n",
       "        vertical-align: middle;\n",
       "    }\n",
       "\n",
       "    .dataframe tbody tr th {\n",
       "        vertical-align: top;\n",
       "    }\n",
       "\n",
       "    .dataframe thead th {\n",
       "        text-align: right;\n",
       "    }\n",
       "</style>\n",
       "<table border=\"1\" class=\"dataframe\">\n",
       "  <thead>\n",
       "    <tr style=\"text-align: right;\">\n",
       "      <th></th>\n",
       "      <th>feature_idx</th>\n",
       "      <th>avg_score</th>\n",
       "      <th>feature_names</th>\n",
       "    </tr>\n",
       "  </thead>\n",
       "  <tbody>\n",
       "    <tr>\n",
       "      <th>1</th>\n",
       "      <td>(3,)</td>\n",
       "      <td>0.838567</td>\n",
       "      <td>(amt,)</td>\n",
       "    </tr>\n",
       "    <tr>\n",
       "      <th>2</th>\n",
       "      <td>(3, 7)</td>\n",
       "      <td>0.857708</td>\n",
       "      <td>(amt, zip)</td>\n",
       "    </tr>\n",
       "    <tr>\n",
       "      <th>3</th>\n",
       "      <td>(2, 3, 7)</td>\n",
       "      <td>0.858224</td>\n",
       "      <td>(category, amt, zip)</td>\n",
       "    </tr>\n",
       "    <tr>\n",
       "      <th>4</th>\n",
       "      <td>(2, 3, 5, 7)</td>\n",
       "      <td>0.858479</td>\n",
       "      <td>(category, amt, city, zip)</td>\n",
       "    </tr>\n",
       "    <tr>\n",
       "      <th>5</th>\n",
       "      <td>(2, 3, 4, 5, 7)</td>\n",
       "      <td>0.858479</td>\n",
       "      <td>(category, amt, gender, city, zip)</td>\n",
       "    </tr>\n",
       "    <tr>\n",
       "      <th>6</th>\n",
       "      <td>(2, 3, 4, 5, 6, 7)</td>\n",
       "      <td>0.858451</td>\n",
       "      <td>(category, amt, gender, city, state, zip)</td>\n",
       "    </tr>\n",
       "    <tr>\n",
       "      <th>7</th>\n",
       "      <td>(0, 2, 3, 4, 5, 6, 7)</td>\n",
       "      <td>0.858353</td>\n",
       "      <td>(cc_num, category, amt, gender, city, state, zip)</td>\n",
       "    </tr>\n",
       "    <tr>\n",
       "      <th>8</th>\n",
       "      <td>(0, 2, 3, 4, 5, 6, 7, 8)</td>\n",
       "      <td>0.858534</td>\n",
       "      <td>(cc_num, category, amt, gender, city, state, z...</td>\n",
       "    </tr>\n",
       "    <tr>\n",
       "      <th>9</th>\n",
       "      <td>(0, 1, 2, 3, 4, 5, 6, 7, 8)</td>\n",
       "      <td>0.858223</td>\n",
       "      <td>(cc_num, merchant, category, amt, gender, city...</td>\n",
       "    </tr>\n",
       "  </tbody>\n",
       "</table>\n",
       "</div>"
      ],
      "text/plain": [
       "                   feature_idx avg_score  \\\n",
       "1                         (3,)  0.838567   \n",
       "2                       (3, 7)  0.857708   \n",
       "3                    (2, 3, 7)  0.858224   \n",
       "4                 (2, 3, 5, 7)  0.858479   \n",
       "5              (2, 3, 4, 5, 7)  0.858479   \n",
       "6           (2, 3, 4, 5, 6, 7)  0.858451   \n",
       "7        (0, 2, 3, 4, 5, 6, 7)  0.858353   \n",
       "8     (0, 2, 3, 4, 5, 6, 7, 8)  0.858534   \n",
       "9  (0, 1, 2, 3, 4, 5, 6, 7, 8)  0.858223   \n",
       "\n",
       "                                       feature_names  \n",
       "1                                             (amt,)  \n",
       "2                                         (amt, zip)  \n",
       "3                               (category, amt, zip)  \n",
       "4                         (category, amt, city, zip)  \n",
       "5                 (category, amt, gender, city, zip)  \n",
       "6          (category, amt, gender, city, state, zip)  \n",
       "7  (cc_num, category, amt, gender, city, state, zip)  \n",
       "8  (cc_num, category, amt, gender, city, state, z...  \n",
       "9  (cc_num, merchant, category, amt, gender, city...  "
      ]
     },
     "execution_count": 34,
     "metadata": {},
     "output_type": "execute_result"
    }
   ],
   "source": [
    "results.drop('cv_scores', axis=1)"
   ]
  },
  {
   "cell_type": "markdown",
   "metadata": {},
   "source": [
    "### We can clearly see that (cc_num, category, amt, gender, city) are giving the best f1-score!"
   ]
  },
  {
   "cell_type": "markdown",
   "metadata": {},
   "source": [
    "## First we will do modelling on a reduced model!"
   ]
  },
  {
   "cell_type": "code",
   "execution_count": 35,
   "metadata": {},
   "outputs": [],
   "source": [
    "X_trainred=X_train[['cc_num', 'category', 'amt', 'gender', 'city']]\n",
    "X_testred=X_test[['cc_num', 'category', 'amt', 'gender', 'city']]"
   ]
  },
  {
   "cell_type": "code",
   "execution_count": 36,
   "metadata": {},
   "outputs": [],
   "source": [
    "classifier_names = [\"Logistic Regression\", \"KNN\", \"Random Forest\"]\n",
    "\n",
    "classifiers = [LogisticRegression(n_jobs=-1), KNeighborsClassifier(n_jobs=-1), RandomForestClassifier(n_jobs=-1)]\n",
    "\n",
    "final_clf = zip(classifier_names,classifiers)"
   ]
  },
  {
   "cell_type": "code",
   "execution_count": 37,
   "metadata": {},
   "outputs": [],
   "source": [
    "def fit_classifier(pipeline, x_train, y_train, x_test, y_test):\n",
    "    model_fit = pipeline.fit(x_train, y_train)\n",
    "    y_pred = model_fit.predict(x_test)\n",
    "    f1 = f1_score(y_test, y_pred)\n",
    "    accuracy = accuracy_score(y_test, y_pred)\n",
    "    confmatx=confusion_matrix(y_test, y_pred)\n",
    "    print(\"accuracy score: {0:.2f}%\".format(accuracy*100))\n",
    "    \n",
    "    \n",
    "    print(\"F1 score: {0:.4f}%\".format(f1))\n",
    "    \n",
    "    print(\"Confusion Matrix/n\", confmatx)\n",
    "   \n",
    "    \n",
    "    #return f1,accuracy"
   ]
  },
  {
   "cell_type": "code",
   "execution_count": 38,
   "metadata": {},
   "outputs": [],
   "source": [
    "def classifier(classifier, t_train, c_train, t_test, c_test):\n",
    "    result = []\n",
    "    for n,c in classifier:\n",
    "        checker_pipeline = Pipeline([                         \n",
    "            ('classifier', c)\n",
    "        ])\n",
    "        print(\"Validation result for {}\".format(n))\n",
    "        print(c)\n",
    "        clf_acc = fit_classifier(checker_pipeline, t_train, c_train, t_test,c_test)\n",
    "        result.append((n,clf_acc))\n",
    "    return result"
   ]
  },
  {
   "cell_type": "code",
   "execution_count": 39,
   "metadata": {},
   "outputs": [
    {
     "name": "stdout",
     "output_type": "stream",
     "text": [
      "Validation result for Logistic Regression\n",
      "LogisticRegression(n_jobs=-1)\n",
      "accuracy score: 92.99%\n",
      "F1 score: 0.1175%\n",
      "Confusion Matrix/n [[299937  22355]\n",
      " [   364   1513]]\n",
      "Validation result for KNN\n",
      "KNeighborsClassifier(n_jobs=-1)\n",
      "accuracy score: 97.27%\n",
      "F1 score: 0.2605%\n",
      "Confusion Matrix/n [[313772   8520]\n",
      " [   320   1557]]\n",
      "Validation result for Random Forest\n",
      "RandomForestClassifier(n_jobs=-1)\n",
      "accuracy score: 99.40%\n",
      "F1 score: 0.6115%\n",
      "Confusion Matrix/n [[320677   1615]\n",
      " [   339   1538]]\n"
     ]
    },
    {
     "data": {
      "text/plain": [
       "[('Logistic Regression', None), ('KNN', None), ('Random Forest', None)]"
      ]
     },
     "execution_count": 39,
     "metadata": {},
     "output_type": "execute_result"
    }
   ],
   "source": [
    "classifier(final_clf,X_trainred,y_train, X_testred, y_test)"
   ]
  },
  {
   "cell_type": "code",
   "execution_count": 40,
   "metadata": {},
   "outputs": [],
   "source": [
    "model1=LogisticRegression(n_jobs=-1)\n",
    "model1.fit(X_trainred,y_train)\n",
    "probas_lr=model1.predict_proba(X_testred)"
   ]
  },
  {
   "cell_type": "code",
   "execution_count": 41,
   "metadata": {},
   "outputs": [],
   "source": [
    "model2=KNeighborsClassifier(n_jobs=-1)\n",
    "model2.fit(X_trainred,y_train)\n",
    "probas_knn=model2.predict_proba(X_testred)"
   ]
  },
  {
   "cell_type": "code",
   "execution_count": 42,
   "metadata": {},
   "outputs": [],
   "source": [
    "model3=RandomForestClassifier(n_jobs=-1)\n",
    "model3.fit(X_trainred,y_train)\n",
    "probas_rf=model3.predict_proba(X_testred)"
   ]
  },
  {
   "cell_type": "code",
   "execution_count": 43,
   "metadata": {},
   "outputs": [],
   "source": [
    "from sklearn.metrics import roc_curve\n",
    "from sklearn.metrics import roc_auc_score,auc"
   ]
  },
  {
   "cell_type": "code",
   "execution_count": 44,
   "metadata": {},
   "outputs": [
    {
     "data": {
      "image/png": "[encoded data removed]",
      "text/plain": [
       "<Figure size 900x600 with 1 Axes>"
      ]
     },
     "metadata": {
      "needs_background": "light"
     },
     "output_type": "display_data"
    }
   ],
   "source": [
    "# get false and true positive rates\n",
    "fpr1, tpr1, thresholds1 = roc_curve(y_test, probas_lr[:,1], pos_label=1)\n",
    "fpr2, tpr2, thresholds2 = roc_curve(y_test, probas_knn[:,1], pos_label=1)\n",
    "fpr3, tpr3, thresholds3 = roc_curve(y_test, probas_rf[:,1], pos_label=1)\n",
    "\n",
    "# get area under the curve\n",
    "roc_auc1 = auc(fpr1, tpr1)\n",
    "roc_auc2 = auc(fpr2, tpr2)\n",
    "roc_auc3 = auc(fpr3, tpr3)\n",
    "\n",
    "# PLOT ROC curve\n",
    "plt.figure(dpi=150)\n",
    "plt.plot(fpr1, tpr1, lw=1, color='green', label=f'(Logistic Regression)AUC = {roc_auc1:.3f}')\n",
    "plt.plot(fpr2, tpr2, lw=1, color='red', label=f'(KNN)AUC = {roc_auc2:.3f}')\n",
    "plt.plot(fpr3, tpr3, lw=1, color='blue', label=f'(Random Forest)AUC = {roc_auc3:.3f}')\n",
    "plt.title('ROC Curve')\n",
    "plt.xlabel('False Positive Rate')\n",
    "plt.ylabel('True Positive Rate (Recall)')\n",
    "plt.plot([0,1], [0,1], color='orange', linestyle='--')\n",
    "plt.xlim([-0.05, 1.05])\n",
    "plt.ylim([-0.05, 1.05])\n",
    "plt.legend()\n",
    "\n",
    " # plot some thresholds\n",
    "#thresholdsLength = len(thresholds1)\n",
    "#colorMap=plt.get_cmap('jet', thresholdsLength)\n",
    "#for i in range(0, thresholdsLength, 5000):\n",
    "    #threshold_value_with_max_four_decimals = str(thresholds1[i])[:5]\n",
    "    #plt.text(fpr1[i] - 0.03, tpr1[i] + 0.005, threshold_value_with_max_four_decimals, fontdict={'size': 5}, color=colorMap(i/thresholdsLength));\n",
    "plt.show()"
   ]
  },
  {
   "cell_type": "markdown",
   "metadata": {},
   "source": [
    "### ROC Curve for Random Forest Only"
   ]
  },
  {
   "cell_type": "code",
   "execution_count": 45,
   "metadata": {},
   "outputs": [
    {
     "data": {
      "image/png": "[encoded data removed]",
      "text/plain": [
       "<Figure size 900x600 with 1 Axes>"
      ]
     },
     "metadata": {
      "needs_background": "light"
     },
     "output_type": "display_data"
    }
   ],
   "source": [
    "# PLOT ROC curve\n",
    "plt.figure(dpi=150)\n",
    "plt.plot(fpr3, tpr3, lw=1, color='blue', label=f'(Random Forest)AUC = {roc_auc3:.3f}')\n",
    "plt.title('ROC Curve for RF classifier')\n",
    "plt.xlabel('False Positive Rate')\n",
    "plt.ylabel('True Positive Rate (Recall)')\n",
    "plt.plot([0,1], [0,1], color='orange', linestyle='--')\n",
    "plt.xlim([-0.05, 1.05])\n",
    "plt.ylim([-0.05, 1.05])\n",
    "plt.legend()\n",
    "\n",
    " # plot some thresholds\n",
    "thresholdsLength = len(thresholds3)\n",
    "colorMap=plt.get_cmap('jet', thresholdsLength)\n",
    "for i in range(0, thresholdsLength, 100):\n",
    "    threshold_value_with_max_four_decimals = str(thresholds3[i])[:5]\n",
    "    plt.text(fpr3[i] - 0.03, tpr3[i] + 0.005, threshold_value_with_max_four_decimals, fontdict={'size': 5}, color=colorMap(i/thresholdsLength));\n",
    "plt.show()"
   ]
  },
  {
   "cell_type": "code",
   "execution_count": 46,
   "metadata": {},
   "outputs": [],
   "source": [
    "random_forest = RandomForestClassifier(n_estimators=100, n_jobs=-1)\n",
    "random_forest.fit(X_trainred, y_train)\n",
    "\n",
    "threshold = 0.025\n",
    "\n",
    "predicted = random_forest.predict_proba(X_testred)"
   ]
  },
  {
   "cell_type": "code",
   "execution_count": 47,
   "metadata": {},
   "outputs": [],
   "source": [
    "from sklearn.metrics import precision_score, recall_score"
   ]
  },
  {
   "cell_type": "code",
   "execution_count": 48,
   "metadata": {},
   "outputs": [],
   "source": [
    "pred=[]\n",
    "for i in range(len(predicted)):\n",
    "    if predicted[:,1][i] >= threshold:\n",
    "        pred.append(1)\n",
    "    else:\n",
    "        pred.append(0)"
   ]
  },
  {
   "cell_type": "code",
   "execution_count": 49,
   "metadata": {},
   "outputs": [
    {
     "data": {
      "text/plain": [
       "array([[309772,  12520],\n",
       "       [    64,   1813]], dtype=int64)"
      ]
     },
     "execution_count": 49,
     "metadata": {},
     "output_type": "execute_result"
    }
   ],
   "source": [
    "confusion_matrix(y_test,pred)"
   ]
  },
  {
   "cell_type": "code",
   "execution_count": 50,
   "metadata": {},
   "outputs": [
    {
     "data": {
      "text/plain": [
       "0.9659030367607885"
      ]
     },
     "execution_count": 50,
     "metadata": {},
     "output_type": "execute_result"
    }
   ],
   "source": [
    "recall_score(y_test,pred,pos_label=1)"
   ]
  },
  {
   "cell_type": "code",
   "execution_count": 51,
   "metadata": {},
   "outputs": [
    {
     "data": {
      "text/plain": [
       "0.1264913137514826"
      ]
     },
     "execution_count": 51,
     "metadata": {},
     "output_type": "execute_result"
    }
   ],
   "source": [
    "precision_score(y_test,pred,pos_label=1)"
   ]
  },
  {
   "cell_type": "markdown",
   "metadata": {},
   "source": [
    "### Lets train the full model for Random Forest only as it was performing the best!"
   ]
  },
  {
   "cell_type": "code",
   "execution_count": 52,
   "metadata": {},
   "outputs": [],
   "source": [
    "Random_forest_fullm=RandomForestClassifier(n_estimators=100,n_jobs=-1)"
   ]
  },
  {
   "cell_type": "code",
   "execution_count": 53,
   "metadata": {},
   "outputs": [
    {
     "data": {
      "text/plain": [
       "RandomForestClassifier(n_jobs=-1)"
      ]
     },
     "execution_count": 53,
     "metadata": {},
     "output_type": "execute_result"
    }
   ],
   "source": [
    "Random_forest_fullm.fit(X_train,y_train)"
   ]
  },
  {
   "cell_type": "code",
   "execution_count": 54,
   "metadata": {},
   "outputs": [],
   "source": [
    "full_modpred=Random_forest_fullm.predict(X_test)"
   ]
  },
  {
   "cell_type": "code",
   "execution_count": 55,
   "metadata": {},
   "outputs": [],
   "source": [
    "probas_fullmod=Random_forest_fullm.predict_proba(X_test)"
   ]
  },
  {
   "cell_type": "code",
   "execution_count": 56,
   "metadata": {},
   "outputs": [
    {
     "data": {
      "text/plain": [
       "array([[321684,    608],\n",
       "       [   396,   1481]], dtype=int64)"
      ]
     },
     "execution_count": 56,
     "metadata": {},
     "output_type": "execute_result"
    }
   ],
   "source": [
    "confusion_matrix(y_test,full_modpred)"
   ]
  },
  {
   "cell_type": "code",
   "execution_count": null,
   "metadata": {},
   "outputs": [],
   "source": []
  },
  {
   "cell_type": "code",
   "execution_count": 57,
   "metadata": {},
   "outputs": [],
   "source": [
    "fpr_fm, tpr_fm, thresholds_fm = roc_curve(y_test, probas_fullmod[:,1], pos_label=1)\n",
    "\n",
    "# get area under the curve\n",
    "roc_auc_fm = auc(fpr_fm, tpr_fm)"
   ]
  },
  {
   "cell_type": "markdown",
   "metadata": {},
   "source": [
    "### ROC curve for full Random Forest Model."
   ]
  },
  {
   "cell_type": "code",
   "execution_count": 58,
   "metadata": {},
   "outputs": [
    {
     "data": {
      "image/png": "[encoded data removed]",
      "text/plain": [
       "<Figure size 900x600 with 1 Axes>"
      ]
     },
     "metadata": {
      "needs_background": "light"
     },
     "output_type": "display_data"
    }
   ],
   "source": [
    "plt.figure(dpi=150)\n",
    "plt.plot(fpr_fm, tpr_fm, lw=1, color='blue', label=f'(Random Forest)AUC = {roc_auc_fm:.3f}')\n",
    "plt.title('ROC Curve for RF classifier')\n",
    "plt.xlabel('False Positive Rate')\n",
    "plt.ylabel('True Positive Rate (Recall)')\n",
    "plt.plot([0,1], [0,1], color='orange', linestyle='--')\n",
    "plt.xlim([-0.05, 1.05])\n",
    "plt.ylim([-0.05, 1.05])\n",
    "plt.legend()\n",
    "\n",
    " # plot some thresholds\n",
    "thresholdsLength = len(thresholds_fm)\n",
    "colorMap=plt.get_cmap('jet', thresholdsLength)\n",
    "for i in range(0, thresholdsLength, 10):\n",
    "    threshold_value_with_max_four_decimals = str(thresholds_fm[i])[:5]\n",
    "    plt.text(fpr_fm[i] - 0.03, tpr_fm[i] + 0.005, threshold_value_with_max_four_decimals, fontdict={'size': 5}, color=colorMap(i/thresholdsLength));\n",
    "plt.show()"
   ]
  },
  {
   "cell_type": "code",
   "execution_count": 59,
   "metadata": {},
   "outputs": [],
   "source": [
    "predfm=[]\n",
    "for i in range(len(probas_fullmod)):\n",
    "    if probas_fullmod[:,1][i] >= 0.125:\n",
    "        predfm.append(1)\n",
    "    else:\n",
    "        predfm.append(0)"
   ]
  },
  {
   "cell_type": "code",
   "execution_count": 60,
   "metadata": {},
   "outputs": [
    {
     "data": {
      "text/plain": [
       "array([[319232,   3060],\n",
       "       [   174,   1703]], dtype=int64)"
      ]
     },
     "execution_count": 60,
     "metadata": {},
     "output_type": "execute_result"
    }
   ],
   "source": [
    "confusion_matrix(y_test,predfm)"
   ]
  },
  {
   "cell_type": "markdown",
   "metadata": {},
   "source": [
    "### Lets fine tune the HyperParameters using GridSearchCV and RandomSearchCV!"
   ]
  },
  {
   "cell_type": "code",
   "execution_count": 61,
   "metadata": {},
   "outputs": [],
   "source": [
    "from sklearn.model_selection import GridSearchCV"
   ]
  },
  {
   "cell_type": "code",
   "execution_count": 62,
   "metadata": {},
   "outputs": [],
   "source": [
    "gridfm=GridSearchCV(RandomForestClassifier(n_estimators=50),param_grid={'max_depth':[5, 8, 15, 25, 30]},n_jobs=-1,scoring='f1',\n",
    "                           cv=2)"
   ]
  },
  {
   "cell_type": "code",
   "execution_count": 63,
   "metadata": {},
   "outputs": [],
   "source": [
    "finalm=RandomForestClassifier(n_estimators=100,n_jobs=-1)"
   ]
  },
  {
   "cell_type": "code",
   "execution_count": 64,
   "metadata": {},
   "outputs": [
    {
     "data": {
      "text/plain": [
       "RandomForestClassifier(n_jobs=-1)"
      ]
     },
     "execution_count": 64,
     "metadata": {},
     "output_type": "execute_result"
    }
   ],
   "source": [
    "finalm.fit(X_train,y_train)"
   ]
  },
  {
   "cell_type": "code",
   "execution_count": 65,
   "metadata": {},
   "outputs": [],
   "source": [
    "finalpred=finalm.predict(X_test)"
   ]
  },
  {
   "cell_type": "code",
   "execution_count": 66,
   "metadata": {},
   "outputs": [],
   "source": [
    "probas_final=finalm.predict_proba(X_test)"
   ]
  },
  {
   "cell_type": "code",
   "execution_count": 67,
   "metadata": {},
   "outputs": [
    {
     "data": {
      "text/plain": [
       "array([[321691,    601],\n",
       "       [   395,   1482]], dtype=int64)"
      ]
     },
     "execution_count": 67,
     "metadata": {},
     "output_type": "execute_result"
    }
   ],
   "source": [
    "confusion_matrix(y_test,finalpred)"
   ]
  },
  {
   "cell_type": "code",
   "execution_count": null,
   "metadata": {},
   "outputs": [],
   "source": []
  },
  {
   "cell_type": "code",
   "execution_count": null,
   "metadata": {},
   "outputs": [],
   "source": []
  },
  {
   "cell_type": "code",
   "execution_count": 68,
   "metadata": {},
   "outputs": [],
   "source": [
    "fraudtest=pd.read_csv('fraudTest.csv')"
   ]
  },
  {
   "cell_type": "code",
   "execution_count": 69,
   "metadata": {},
   "outputs": [],
   "source": [
    "fraudtest.drop('Unnamed: 0',axis=1,inplace=True)"
   ]
  },
  {
   "cell_type": "code",
   "execution_count": 70,
   "metadata": {},
   "outputs": [],
   "source": [
    "fraudtest.drop(['trans_date_trans_time','unix_time'], axis=1,inplace=True)\n",
    "fraudtest.drop(['first', 'last', 'street','dob', 'trans_num'],axis=1,inplace=True)\n",
    "fraudtest.drop(['lat','long'],axis=1,inplace=True)\n",
    "fraudtest.drop(['merch_lat','merch_long'],axis=1,inplace=True)\n",
    "fraudtest.drop(['city_pop'],axis=1,inplace=True)"
   ]
  },
  {
   "cell_type": "code",
   "execution_count": 71,
   "metadata": {},
   "outputs": [],
   "source": [
    "# Binarizing Gender column\n",
    "def gender_binarizer(x):\n",
    "    if x=='F':\n",
    "        return 1\n",
    "    if x=='M':\n",
    "        return 0\n",
    "    \n",
    "fraudtest['gender'] = fraudtest['gender'].transform(gender_binarizer)"
   ]
  },
  {
   "cell_type": "code",
   "execution_count": 72,
   "metadata": {},
   "outputs": [],
   "source": [
    "fraudtest['cc_num']=fraudtest['cc_num'].astype(str)\n",
    "fraudtest['zip']=fraudtest['zip'].astype(str)"
   ]
  },
  {
   "cell_type": "code",
   "execution_count": 73,
   "metadata": {},
   "outputs": [],
   "source": [
    "#mean-encode\n",
    "for i in c_feat:\n",
    "    mean =fraudtest.groupby([i])['is_fraud'].mean()\n",
    "    fraudtest[i]=fraudtest[i].map(mean)"
   ]
  },
  {
   "cell_type": "code",
   "execution_count": 74,
   "metadata": {},
   "outputs": [],
   "source": [
    "X_t=fraudtest.drop('is_fraud',axis=1)\n",
    "y_t=fraudtest['is_fraud']"
   ]
  },
  {
   "cell_type": "code",
   "execution_count": 75,
   "metadata": {},
   "outputs": [],
   "source": [
    "X_t['amt']=sc.transform(np.array(X_t['amt']).reshape(-1,1))"
   ]
  },
  {
   "cell_type": "code",
   "execution_count": 76,
   "metadata": {},
   "outputs": [],
   "source": [
    "ffpred=finalm.predict(X_t)"
   ]
  },
  {
   "cell_type": "code",
   "execution_count": 77,
   "metadata": {},
   "outputs": [],
   "source": [
    "probas_ffpred=finalm.predict_proba(X_t)"
   ]
  },
  {
   "cell_type": "code",
   "execution_count": 78,
   "metadata": {},
   "outputs": [
    {
     "data": {
      "text/plain": [
       "array([[539955,  13619],\n",
       "       [   475,   1670]], dtype=int64)"
      ]
     },
     "execution_count": 78,
     "metadata": {},
     "output_type": "execute_result"
    }
   ],
   "source": [
    "confusion_matrix(y_t,ffpred)"
   ]
  },
  {
   "cell_type": "code",
   "execution_count": 79,
   "metadata": {},
   "outputs": [
    {
     "data": {
      "image/png": "[encoded data removed]",
      "text/plain": [
       "<Figure size 900x600 with 1 Axes>"
      ]
     },
     "metadata": {
      "needs_background": "light"
     },
     "output_type": "display_data"
    }
   ],
   "source": [
    "fpr_ff, tpr_ff, thresholds_ff = roc_curve(y_t, probas_ffpred[:,1], pos_label=1)\n",
    "\n",
    "# get area under the curve\n",
    "roc_auc_ff = auc(fpr_ff, tpr_ff)\n",
    "\n",
    "plt.figure(dpi=150)\n",
    "plt.plot(fpr_ff, tpr_ff, lw=1, color='blue', label=f'(Random Forest)AUC = {roc_auc_ff:.3f}')\n",
    "plt.title('ROC Curve for RF classifier for the final test set')\n",
    "plt.xlabel('False Positive Rate')\n",
    "plt.ylabel('True Positive Rate (Recall)')\n",
    "plt.plot([0,1], [0,1], color='orange', linestyle='--')\n",
    "plt.xlim([-0.05, 1.05])\n",
    "plt.ylim([-0.05, 1.05])\n",
    "plt.legend()\n",
    "\n",
    " # plot some thresholds\n",
    "thresholdsLength = len(thresholds_ff)\n",
    "colorMap=plt.get_cmap('jet', thresholdsLength)\n",
    "for i in range(0, thresholdsLength, 10):\n",
    "    threshold_value_with_max_four_decimals = str(thresholds_ff[i])[:5]\n",
    "    plt.text(fpr_ff[i] - 0.03, tpr_ff[i] + 0.005, threshold_value_with_max_four_decimals, fontdict={'size': 5}, color=colorMap(i/thresholdsLength));\n",
    "plt.show()"
   ]
  },
  {
   "cell_type": "code",
   "execution_count": 80,
   "metadata": {},
   "outputs": [
    {
     "data": {
      "image/png": "[encoded data removed]",
      "text/plain": [
       "<Figure size 900x600 with 1 Axes>"
      ]
     },
     "metadata": {
      "needs_background": "light"
     },
     "output_type": "display_data"
    }
   ],
   "source": [
    "from sklearn.metrics import precision_recall_curve, average_precision_score, auc\n",
    "# get precision and recall values\n",
    "precision, recall, thresholds = precision_recall_curve(y_t, probas_ffpred[:,1], pos_label=1)\n",
    "# average precision score\n",
    "avg_precision = average_precision_score(y_t, probas_ffpred[:,1])\n",
    "# precision auc\n",
    "pr_auc = auc(recall, precision)\n",
    "# plot\n",
    "plt.figure(dpi=150)\n",
    "plt.plot(recall, precision, lw=1, color='blue', label=f'AP={avg_precision:.3f}; AUC={pr_auc:.3f}')\n",
    "plt.fill_between(recall, precision, -1, facecolor='lightblue', alpha=0.5)\n",
    "plt.title('PR Curve for RF classifier for final test set')\n",
    "plt.xlabel('Precision')\n",
    "plt.ylabel('Recall (TPR)')\n",
    "plt.xlim([-0.05, 1.05])\n",
    "plt.ylim([-0.05, 1.05])\n",
    "plt.legend()\n",
    "thresholdsLength = len(thresholds)\n",
    "colorMap=plt.get_cmap('jet', thresholdsLength)\n",
    "for i in range(0, thresholdsLength, 5):\n",
    "    threshold_value_with_max_four_decimals = str(thresholds[i])[:5]\n",
    "    plt.text(precision[i] - 0.03, recall[i] + 0.005, threshold_value_with_max_four_decimals, fontdict={'size': 5}, color=colorMap(i/thresholdsLength));\n",
    "plt.show()"
   ]
  },
  {
   "cell_type": "code",
   "execution_count": 81,
   "metadata": {},
   "outputs": [],
   "source": [
    "predff=[]\n",
    "for i in range(len(probas_ffpred)):\n",
    "    if probas_ffpred[:,1][i] >=0.31:\n",
    "        predff.append(1)\n",
    "    else:\n",
    "        predff.append(0)"
   ]
  },
  {
   "cell_type": "code",
   "execution_count": 82,
   "metadata": {},
   "outputs": [
    {
     "data": {
      "text/plain": [
       "array([[520507,  33067],\n",
       "       [   320,   1825]], dtype=int64)"
      ]
     },
     "execution_count": 82,
     "metadata": {},
     "output_type": "execute_result"
    }
   ],
   "source": [
    "finalcxm=confusion_matrix(y_t,predff)\n",
    "finalcxm"
   ]
  },
  {
   "cell_type": "code",
   "execution_count": 83,
   "metadata": {},
   "outputs": [
    {
     "data": {
      "text/plain": [
       "0.8508158508158508"
      ]
     },
     "execution_count": 83,
     "metadata": {},
     "output_type": "execute_result"
    }
   ],
   "source": [
    "recall_score(y_t,predff)"
   ]
  },
  {
   "cell_type": "code",
   "execution_count": 84,
   "metadata": {},
   "outputs": [
    {
     "data": {
      "text/plain": [
       "0.052304253123925254"
      ]
     },
     "execution_count": 84,
     "metadata": {},
     "output_type": "execute_result"
    }
   ],
   "source": [
    "precision_score(y_t,predff)"
   ]
  },
  {
   "cell_type": "markdown",
   "metadata": {},
   "source": [
    "## The precision in the prediction of our final model is pretty low but recall is really good. This does increase the number of False Positives but it is still within the range of 0.5% - 1%."
   ]
  },
  {
   "cell_type": "code",
   "execution_count": 85,
   "metadata": {},
   "outputs": [
    {
     "name": "stdout",
     "output_type": "stream",
     "text": [
      "5.95 %\n"
     ]
    }
   ],
   "source": [
    "print(round((finalcxm[0][1]/(finalcxm.sum()))*100,2),\"%\")"
   ]
  },
  {
   "cell_type": "code",
   "execution_count": null,
   "metadata": {},
   "outputs": [],
   "source": []
  }
 ],
 "metadata": {
  "kernelspec": {
   "display_name": "Python 3",
   "language": "python",
   "name": "python3"
  },
  "language_info": {
   "codemirror_mode": {
    "name": "ipython",
    "version": 3
   },
   "file_extension": ".py",
   "mimetype": "text/x-python",
   "name": "python",
   "nbconvert_exporter": "python",
   "pygments_lexer": "ipython3",
   "version": "3.8.5"
  }
 },
 "nbformat": 4,
 "nbformat_minor": 4
}
